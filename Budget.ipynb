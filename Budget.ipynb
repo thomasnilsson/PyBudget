{
 "cells": [
  {
   "cell_type": "code",
   "execution_count": 85,
   "metadata": {},
   "outputs": [],
   "source": [
    "import pandas as pd\n",
    "jan = pd.read_csv(\"2017.csv\", encoding = \"ISO-8859-1\", delimiter=\";\")"
   ]
  },
  {
   "cell_type": "code",
   "execution_count": 86,
   "metadata": {},
   "outputs": [],
   "source": [
    "jan = jan[jan.Bogført.str.contains(\"-01-2018\")]"
   ]
  },
  {
   "cell_type": "code",
   "execution_count": 88,
   "metadata": {},
   "outputs": [],
   "source": [
    "jan = jan.stack().str.replace(\",\", \".\").unstack()"
   ]
  },
  {
   "cell_type": "code",
   "execution_count": 89,
   "metadata": {},
   "outputs": [],
   "source": [
    "food_stores = [\"kvickly\", \"fdb\", \"rema\", \"kantine\", \"netto\", \"coop\", \"meny\", \"texas\", \"gudhjem\", \"restaurant\"]"
   ]
  },
  {
   "cell_type": "code",
   "execution_count": 90,
   "metadata": {},
   "outputs": [],
   "source": [
    "food_rows = jan[jan.Tekst.str.lower().str.contains(\"|\".join(food_stores))]"
   ]
  },
  {
   "cell_type": "code",
   "execution_count": 91,
   "metadata": {},
   "outputs": [
    {
     "data": {
      "text/plain": [
       "-3827.4"
      ]
     },
     "execution_count": 91,
     "metadata": {},
     "output_type": "execute_result"
    }
   ],
   "source": [
    "sum(food_rows.Beløb.astype(float))"
   ]
  },
  {
   "cell_type": "code",
   "execution_count": 17,
   "metadata": {},
   "outputs": [],
   "source": [
    "import pandas as pd\n",
    "def calculateBudget(fileName):\n",
    "    import pandas as pd\n",
    "    data = pd.read_csv(fileName, encoding = \"ISO-8859-1\", delimiter=\";\")\n",
    "    data = data.stack().str.replace(\",\", \".\").unstack()\n",
    "    food_stores = [\"kvickly\", \"fdb\", \"rema\", \"kantine\", \"netto\", \"coop\", \"meny\", \"texas\", \"gudhjem\", \"restaurant\", \"fisk\"]\n",
    "    food_rows = data[data.Tekst.str.lower().str.contains(\"|\".join(food_stores))]\n",
    "    total = sum(food_rows.Beløb.astype(float))\n",
    "    avg = total / 12\n",
    "    return [int(total), int(avg)]"
   ]
  },
  {
   "cell_type": "code",
   "execution_count": 18,
   "metadata": {},
   "outputs": [
    {
     "data": {
      "text/plain": [
       "[-44183, -3681]"
      ]
     },
     "execution_count": 18,
     "metadata": {},
     "output_type": "execute_result"
    }
   ],
   "source": [
    "calculateBudget(\"2017.csv\")"
   ]
  },
  {
   "cell_type": "code",
   "execution_count": null,
   "metadata": {},
   "outputs": [],
   "source": []
  }
 ],
 "metadata": {
  "kernelspec": {
   "display_name": "Python 3",
   "language": "python",
   "name": "python3"
  },
  "language_info": {
   "codemirror_mode": {
    "name": "ipython",
    "version": 3
   },
   "file_extension": ".py",
   "mimetype": "text/x-python",
   "name": "python",
   "nbconvert_exporter": "python",
   "pygments_lexer": "ipython3",
   "version": "3.6.1"
  }
 },
 "nbformat": 4,
 "nbformat_minor": 2
}
